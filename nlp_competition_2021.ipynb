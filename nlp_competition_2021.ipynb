{
  "nbformat": 4,
  "nbformat_minor": 0,
  "metadata": {
    "colab": {
      "name": "nlp_competition_2021.ipynb",
      "provenance": [],
      "collapsed_sections": [],
      "include_colab_link": true
    },
    "kernelspec": {
      "name": "python3",
      "display_name": "Python 3"
    },
    "language_info": {
      "name": "python"
    }
  },
  "cells": [
    {
      "cell_type": "markdown",
      "metadata": {
        "id": "view-in-github",
        "colab_type": "text"
      },
      "source": [
        "<a href=\"https://colab.research.google.com/github/akshajbansal/hindi_to_english_translator/blob/main/nlp_competition_2021.ipynb\" target=\"_parent\"><img src=\"https://colab.research.google.com/assets/colab-badge.svg\" alt=\"Open In Colab\"/></a>"
      ]
    },
    {
      "cell_type": "markdown",
      "metadata": {
        "id": "8Uk9KQzlu_2J"
      },
      "source": [
        "Please refer to competition report submitted for detailed analysis of the model and the citations used for this model. The main citations have been included in this code itself."
      ]
    },
    {
      "cell_type": "code",
      "metadata": {
        "colab": {
          "base_uri": "https://localhost:8080/"
        },
        "id": "WzMGWiWuVzDP",
        "outputId": "3f30dbdd-d648-4097-b4e5-648141cb67ea"
      },
      "source": [
        "from google.colab import drive\n",
        "drive.mount('/content/drive')"
      ],
      "execution_count": null,
      "outputs": [
        {
          "output_type": "stream",
          "text": [
            "Mounted at /content/drive\n"
          ],
          "name": "stdout"
        }
      ]
    },
    {
      "cell_type": "code",
      "metadata": {
        "id": "iSTdvfUE2be-"
      },
      "source": [
        "#importing modules required in the model\n",
        "import csv\n",
        "#for reading csv file (Note csv is in-built module and not an external library which needs to be installed)\n",
        "\n",
        "from spacy.lang.en import English\n",
        "#for preprocessing english language\n",
        "\n",
        "from io import open     #for file management\n",
        "import sys, unicodedata, string, re, random, torch, math    #other important modules\n",
        "\n",
        "#including necessary torch functionalities\n",
        "import torch.nn as nn\n",
        "from torch import optim\n",
        "import torch.nn.functional as F\n",
        "from torch.autograd import Variable\n",
        "\n",
        "#including matplotlib for plotting graph\n",
        "import matplotlib.pyplot as plt"
      ],
      "execution_count": null,
      "outputs": []
    },
    {
      "cell_type": "code",
      "metadata": {
        "id": "J-V5jPQ0yF9C"
      },
      "source": [
        "def read_csv(path):\n",
        "    with open(path, 'r') as file:         #open csv file at location path\n",
        "        my_reader = csv.reader(file, delimiter=',')\n",
        "        cnt = 0\n",
        "        for row in my_reader:\n",
        "            if cnt == 0:    cnt += 1        #skips reading headers from csv file\n",
        "            else:\n",
        "                if str(path) == train_path:     #if train_path is argument\n",
        "                    array.append([row[1], row[2]])       #row[0] is index, row[1] is hindi, row[2] is english\n",
        "                    cnt += 1\n",
        "                else:                           #if test_path is argument\n",
        "                    sentences.append(row[2])       #row[0] is index, row[1] is index, row[2] is hindi\n",
        "                    cnt += 1\n",
        "    return cnt"
      ],
      "execution_count": null,
      "outputs": []
    },
    {
      "cell_type": "code",
      "metadata": {
        "id": "NqDy25DhvoxR"
      },
      "source": [
        "#array to store hindi-english sentence pairs\n",
        "array = []"
      ],
      "execution_count": null,
      "outputs": []
    },
    {
      "cell_type": "code",
      "metadata": {
        "colab": {
          "base_uri": "https://localhost:8080/"
        },
        "id": "w76FRL13sBad",
        "outputId": "1e986391-ba56-461b-b2f5-ead2ab87dd47"
      },
      "source": [
        "#importing train data from csv file\n",
        "train_path = 'drive/MyDrive/train.csv'\n",
        "cnt = read_csv(train_path)\n",
        "print(f'{cnt-1} sentences read')"
      ],
      "execution_count": null,
      "outputs": [
        {
          "output_type": "stream",
          "text": [
            "102322 sentences read\n"
          ],
          "name": "stdout"
        }
      ]
    },
    {
      "cell_type": "code",
      "metadata": {
        "id": "lMX1t1eXTUKQ"
      },
      "source": [
        "#below line is for specifying number of train pairs to be sampled randomly\n",
        "#array = random.sample(array, 45000)     #sample 45000 data pairs randomly\n",
        "#since the above line is commented, all data pairs are read\n",
        "data_hindi = []     #array to store hindi sentences\n",
        "data_english = []       #array to store english sentences\n",
        "for i in array:     #splits hindi and english sentences\n",
        "    data_hindi.append(i[0])\n",
        "    data_english.append(i[1])"
      ],
      "execution_count": null,
      "outputs": []
    },
    {
      "cell_type": "code",
      "metadata": {
        "colab": {
          "base_uri": "https://localhost:8080/"
        },
        "id": "BGnGjTQwNZP-",
        "outputId": "6cf84988-bcaa-4357-c3a7-998299e677e3"
      },
      "source": [
        "print(len(data_hindi), len(data_english))\n",
        "print(data_hindi[:10])\n",
        "print(data_english[:10])"
      ],
      "execution_count": null,
      "outputs": [
        {
          "output_type": "stream",
          "text": [
            "102322 102322\n",
            "['एल सालवाडोर मे, जिन दोनो पक्षों ने सिविल-युद्ध से वापसी ली, उन्होंने वही काम किये जो कैदियों की कश्मकश के निदान हैं।', 'मैं उनके साथ कोई लेना देना नहीं है.', '-हटाओ रिक.', 'क्योंकि यह एक खुशियों भरी फ़िल्म है.', 'The thought reaching the eyes...', 'मैंने तुमे School से हटवा दिया .', 'यह Vika, एक फूल है.', 'पर मेरे लिए उसका यहुदी विरोधी होना उसके कार्यों को और भी प्रशंसनीय बनाता है क्योंकि उसके पास भी पक्षपात करने के वही कारण थे जो बाकी फौजियों के पास थे पर उसकी सच जानने और उसे बनाए रखने की प्रेरणा सबसे ऊपर थी', 'नहीं, नहीं, नहीं... ठीक है, हम उह हूँ... हम कार्ड का उपयोग करेंगे.', '- क्या भाषा क्या वे वहाँ बात की?']\n",
            "[\"In El Salvador, both sides that withdrew from their civil war took moves that had been proven to mirror a prisoner's dilemma strategy.\", 'I have nothing to do with them.', 'Fuck them, Rick.', \"Because it's a happy film.\", 'The thought reaching the eyes...', 'I got you suspended.', \"It's a flower, Vika.\", 'But personally, for me, the fact that Picquart was anti-Semitic actually makes his actions more admirable, because he had the same prejudices, the same reasons to be biased as his fellow officers, but his motivation to find the truth and uphold it trumped all of that.', \"No, no, no... fine, we'll uh... we'll use the card.\", '- What language do they speak there?']\n"
          ],
          "name": "stdout"
        }
      ]
    },
    {
      "cell_type": "code",
      "metadata": {
        "colab": {
          "base_uri": "https://localhost:8080/"
        },
        "id": "0Pu7HRI52i0m",
        "outputId": "9889eb32-d91f-40c7-e37a-b60dce36e205"
      },
      "source": [
        "#installing and cloning required items for preprocessing\n",
        "get_ipython().system('pip install Morfessor')     #Morfessor models Indian languages\n",
        "\n",
        "#this is the citation for the indicnlp library and resources used\n",
        "#@misc{\n",
        "#  kunchukuttan2020indicnlp,\n",
        "#  author = \"Anoop Kunchukuttan\",\n",
        "#  title = \"{The IndicNLP Library}\",\n",
        "#  year = \"2020\",\n",
        "#  howpublished={\\url{https://github.com/anoopkunchukuttan/indic_nlp_library/blob/master/docs/indicnlp.pdf}}\n",
        "#}\n",
        "#this citation is given on the webpage which can be accessed by the above/below link\n",
        "\n",
        "!git clone \"https://github.com/anoopkunchukuttan/indic_nlp_library\"\n",
        "!git clone https://github.com/anoopkunchukuttan/indic_nlp_resources.git\n",
        "INDIC_NLP_LIB_HOME = r\"/content/indic_nlp_library\"\n",
        "INDIC_NLP_RESOURCES = \"/content/indic_nlp_resources\"\n",
        "sys.path.append(r'{}'.format(INDIC_NLP_LIB_HOME))"
      ],
      "execution_count": null,
      "outputs": [
        {
          "output_type": "stream",
          "text": [
            "Collecting Morfessor\n",
            "  Downloading https://files.pythonhosted.org/packages/39/e6/7afea30be2ee4d29ce9de0fa53acbb033163615f849515c0b1956ad074ee/Morfessor-2.0.6-py3-none-any.whl\n",
            "Installing collected packages: Morfessor\n",
            "Successfully installed Morfessor-2.0.6\n",
            "Cloning into 'indic_nlp_library'...\n",
            "remote: Enumerating objects: 1271, done.\u001b[K\n",
            "remote: Counting objects: 100% (93/93), done.\u001b[K\n",
            "remote: Compressing objects: 100% (68/68), done.\u001b[K\n",
            "remote: Total 1271 (delta 50), reused 54 (delta 25), pack-reused 1178\u001b[K\n",
            "Receiving objects: 100% (1271/1271), 9.56 MiB | 16.56 MiB/s, done.\n",
            "Resolving deltas: 100% (654/654), done.\n",
            "Cloning into 'indic_nlp_resources'...\n",
            "remote: Enumerating objects: 133, done.\u001b[K\n",
            "remote: Counting objects: 100% (7/7), done.\u001b[K\n",
            "remote: Compressing objects: 100% (7/7), done.\u001b[K\n",
            "remote: Total 133 (delta 0), reused 2 (delta 0), pack-reused 126\u001b[K\n",
            "Receiving objects: 100% (133/133), 149.77 MiB | 42.56 MiB/s, done.\n",
            "Resolving deltas: 100% (51/51), done.\n"
          ],
          "name": "stdout"
        }
      ]
    },
    {
      "cell_type": "code",
      "metadata": {
        "id": "Ab3QaWUA2iyp"
      },
      "source": [
        "#importing relevant items from indicnlp\n",
        "from indicnlp import loader\n",
        "from indicnlp import common\n",
        "from indicnlp.tokenize import indic_tokenize \n",
        "from indicnlp.normalize.indic_normalize import BaseNormalizer\n",
        "common.set_resources_path(INDIC_NLP_RESOURCES)\n",
        "loader.load()"
      ],
      "execution_count": null,
      "outputs": []
    },
    {
      "cell_type": "code",
      "metadata": {
        "id": "Q5c7zBiBj2z1"
      },
      "source": [
        "#enabling cuda for this model\n",
        "use_cuda = torch.cuda.is_available()"
      ],
      "execution_count": null,
      "outputs": []
    },
    {
      "cell_type": "code",
      "metadata": {
        "id": "eLgAAqRf2iur"
      },
      "source": [
        "#tokenizing English using spacy module of python\n",
        "nlp = English()\n",
        "tokenizer = nlp.tokenizer"
      ],
      "execution_count": null,
      "outputs": []
    },
    {
      "cell_type": "code",
      "metadata": {
        "id": "aAdI9JC52itE"
      },
      "source": [
        "#defining variables\n",
        "SOS, EOS, UKN = 0, 1, 2     #start of sentence, end of sentence, unknown"
      ],
      "execution_count": null,
      "outputs": []
    },
    {
      "cell_type": "code",
      "metadata": {
        "id": "XWh-62Xo2iqU"
      },
      "source": [
        "#tokenize a sentence\n",
        "#using spacy for english and INDICNLP for hindi\n",
        "def tokenize_sentence(lang, s):\n",
        "    return list(tokenizer(s)) if lang.name == 'English' else list(indic_tokenize.trivial_tokenize(s))"
      ],
      "execution_count": null,
      "outputs": []
    },
    {
      "cell_type": "code",
      "metadata": {
        "id": "HI3BDGXY2ipp"
      },
      "source": [
        "#create indices\n",
        "#returns index of word in the list if word is found\n",
        "#returns 2 (the variable index for UKN) if word is not found\n",
        "def sentence_indices(lang, s):\n",
        "    return [lang.word2index.get(str(i),2) for i in list(tokenizer(s))] if lang.name == 'English' else [lang.word2index.get(i, 2) for i in list(indic_tokenize.trivial_tokenize(s))]"
      ],
      "execution_count": null,
      "outputs": []
    },
    {
      "cell_type": "code",
      "metadata": {
        "id": "-ah6wVWV2imd"
      },
      "source": [
        "#creating variables\n",
        "#returns array of indices\n",
        "def sentence_variables(lang, s):\n",
        "    index = sentence_indices(lang, s)\n",
        "    index.append(EOS)\n",
        "    return Variable(torch.LongTensor(index).view(-1, 1)).cuda() if use_cuda else Variable(torch.LongTensor(index).view(-1, 1))"
      ],
      "execution_count": null,
      "outputs": []
    },
    {
      "cell_type": "code",
      "metadata": {
        "id": "hB-WqYEx2ilT"
      },
      "source": [
        "#creating hindi-english data pairs\n",
        "#returns hindi-english pairs\n",
        "def pair_variables(hindi_language, english_language, pair):\n",
        "    return (sentence_variables(hindi_language, pair[0]), sentence_variables(english_language, pair[1]))"
      ],
      "execution_count": null,
      "outputs": []
    },
    {
      "cell_type": "code",
      "metadata": {
        "id": "u2sFOs4-2iiH"
      },
      "source": [
        "#creating class Create_Language\n",
        "class Create_Language:\n",
        "    def __init__(self, name):\n",
        "        self.name = name\n",
        "        self.vocab = 3      #dictionary size (initially 3: SOS, EOS, UKN)\n",
        "        self.word2index = {}\n",
        "        self.index2word = {0: \"SOS\", 1: \"EOS\", 2: \"UKN\"}   #start of sentence, end of sentence, unknown\n",
        "\n",
        "    def add_word(self, word):      #adds new word to dictionary\n",
        "        if word not in self.word2index:\n",
        "            self.vocab += 1\n",
        "            self.word2index[word] = self.vocab-1\n",
        "            self.index2word[self.vocab-1] = word"
      ],
      "execution_count": null,
      "outputs": []
    },
    {
      "cell_type": "code",
      "metadata": {
        "id": "tSRkOqkL2igv"
      },
      "source": [
        "#preparing dictionary\n",
        "#returns training data pairs\n",
        "def dictionary(data_hindi, data_english):\n",
        "    hindi_language, english_language = Create_Language('Hindi'), Create_Language('English')     #creates language\n",
        "    hindi_sentences, english_sentences = list(data_hindi), list(data_english)     #data from csv file splitted into hindi and english\n",
        "    train_data_pairs = list(zip(hindi_sentences, english_sentences))        #hindi-english corresponding sentence pairing\n",
        "\n",
        "    for hindi_sentence, english_sentence in train_data_pairs:       #tokenize sentences and adding words to vocabulary/dictionary\n",
        "        for token in tokenize_sentence(hindi_language, hindi_sentence):      hindi_language.add_word(token)\n",
        "        for token in tokenize_sentence(english_language, english_sentence):      english_language.add_word(str(token))\n",
        "  \n",
        "    print(f'English has {english_language.vocab} words\\nHindi has {hindi_language.vocab} words')\n",
        "    return hindi_language, english_language, train_data_pairs"
      ],
      "execution_count": null,
      "outputs": []
    },
    {
      "cell_type": "code",
      "metadata": {
        "id": "VNDTcE2M2idT",
        "colab": {
          "base_uri": "https://localhost:8080/"
        },
        "outputId": "303097b8-aa0a-46c9-b561-4f828ce75b8b"
      },
      "source": [
        "hindi_language, english_language, train_data_pairs = dictionary(data_hindi, data_english)       #displaying number of words read"
      ],
      "execution_count": null,
      "outputs": [
        {
          "output_type": "stream",
          "text": [
            "English has 38349 words\n",
            "Hindi has 46383 words\n"
          ],
          "name": "stdout"
        }
      ]
    },
    {
      "cell_type": "code",
      "metadata": {
        "id": "tOCVDevR2ibn"
      },
      "source": [
        "#Encoder Module\n",
        "class Encoder(nn.Module):\n",
        "    def __init__(self, input_size, hidden_size, layers = 1):    #number of layers = 1\n",
        "        super(Encoder, self).__init__()\n",
        "        self.hidden_size = hidden_size\n",
        "        self.layers = layers\n",
        "        self.embedding = nn.Embedding(input_size, hidden_size)\n",
        "        self.gru = nn.GRU(hidden_size, hidden_size)\n",
        "\n",
        "    def forward(self, input, hidden):\n",
        "        output = self.embedding(input).view(1, 1, -1)\n",
        "        for i in range(self.layers):     output, hidden = self.gru(output, hidden)\n",
        "        return output, hidden\n",
        "\n",
        "    def init_hidden(self):\n",
        "        result = Variable(torch.zeros(1, 1, self.hidden_size))\n",
        "        return result.cuda() if use_cuda else result"
      ],
      "execution_count": null,
      "outputs": []
    },
    {
      "cell_type": "code",
      "metadata": {
        "id": "I7YhiwwZ3I9T"
      },
      "source": [
        "#Decoder Module\n",
        "class Decoder(nn.Module):\n",
        "    def __init__(self, hidden_size, output_size, layers = 1):       #number of layers = 1\n",
        "        super(Decoder, self).__init__()\n",
        "        self.hidden_size = hidden_size\n",
        "        self.layers = layers\n",
        "        self.embedding = nn.Embedding(output_size, hidden_size)\n",
        "        self.gru = nn.GRU(hidden_size, hidden_size)\n",
        "        self.out = nn.Linear(hidden_size, output_size)\n",
        "        self.softmax = nn.LogSoftmax(dim = 1)\n",
        "\n",
        "    def forward(self, input, hidden):\n",
        "        output = self.embedding(input).view(1, 1, -1)\n",
        "        for i in range(self.layers):\n",
        "            output = F.relu(output)\n",
        "            output, hidden = self.gru(output, hidden)\n",
        "        output = self.softmax(self.out(output[0]))\n",
        "        return output, hidden\n",
        "\n",
        "    def init_hidden(self):\n",
        "        result = Variable(torch.zeros(1, 1, self.hidden_size))\n",
        "        return result.cuda() if use_cuda else result"
      ],
      "execution_count": null,
      "outputs": []
    },
    {
      "cell_type": "code",
      "metadata": {
        "id": "pHD4f5B03I6e"
      },
      "source": [
        "#initializing encoder and decoder\n",
        "hidden_size = 1024\n",
        "encoder = Encoder(hindi_language.vocab, hidden_size)\n",
        "decoder = Decoder(hidden_size, english_language.vocab)"
      ],
      "execution_count": null,
      "outputs": []
    },
    {
      "cell_type": "code",
      "metadata": {
        "id": "azeufV-w3I3I"
      },
      "source": [
        "#using cuda for encoder and decoder\n",
        "if use_cuda:      #torch.cuda is available for use\n",
        "    encoder = encoder.cuda()\n",
        "    decoder = decoder.cuda()"
      ],
      "execution_count": null,
      "outputs": []
    },
    {
      "cell_type": "code",
      "metadata": {
        "id": "y2w1fBS33eYi"
      },
      "source": [
        "#parameters for train data function\n",
        "teacher_forcing_ratio = 0.6\n",
        "MAX_LENGTH = 25"
      ],
      "execution_count": null,
      "outputs": []
    },
    {
      "cell_type": "code",
      "metadata": {
        "id": "i3sUNoGh3I16"
      },
      "source": [
        "#training data function\n",
        "def train(input_variable, output_variable, encoder, decoder, encoder_optimizer, decoder_optimizer, criterion, max_length = MAX_LENGTH):\n",
        "    encoder_hidden = encoder.init_hidden()\n",
        "    encoder_optimizer.zero_grad()\n",
        "    decoder_optimizer.zero_grad()\n",
        "\n",
        "    input_length = input_variable.size()[0]\n",
        "    target_length = output_variable.size()[0]\n",
        "\n",
        "    encoder_outputs = Variable(torch.zeros(input_length, encoder.hidden_size)).cuda() if use_cuda else Variable(torch.zeros(input_length, encoder.hidden_size))\n",
        "\n",
        "    loss = 0\n",
        "\n",
        "    #training encoder\n",
        "    for en_in in range(input_length):\n",
        "        encoder_output, encoder_hidden = encoder(input_variable[en_in], encoder_hidden)\n",
        "        encoder_outputs[en_in] = encoder_output[0][0]\n",
        "\n",
        "    decoder_input = Variable(torch.LongTensor([[SOS]])).cuda() if use_cuda else Variable(torch.LongTensor([[SOS]]))\n",
        "    decoder_hidden = encoder_hidden\n",
        "\n",
        "    teacher_forcing = True if random.random() < teacher_forcing_ratio else False\n",
        "\n",
        "    #training decoder based on teacher_forcing_ratio\n",
        "    if teacher_forcing:         #target output serves as next input\n",
        "        for de_in in range(target_length):\n",
        "            decoder_output, decoder_hidden = decoder(decoder_input, decoder_hidden)\n",
        "            loss += criterion(decoder_output, output_variable[de_in])\n",
        "            decoder_input = output_variable[de_in]\n",
        "    else:        #prediction word serves as next input\n",
        "        for de_in in range(target_length):\n",
        "            decoder_output, decoder_hidden = decoder(decoder_input, decoder_hidden)\n",
        "            d1, d2 = decoder_output.data.topk(1)\n",
        "            decoder_input = Variable(torch.LongTensor([[d2[0][0]]])).cuda() if use_cuda else Variable(torch.LongTensor([[d2[0][0]]]))\n",
        "            loss += criterion(decoder_output, output_variable[de_in])\n",
        "            if d2[0][0] == EOS:   break\n",
        "\n",
        "    loss.backward()\n",
        "    encoder_optimizer.step()\n",
        "    decoder_optimizer.step()\n",
        "\n",
        "    return loss.item() / target_length"
      ],
      "execution_count": null,
      "outputs": []
    },
    {
      "cell_type": "code",
      "metadata": {
        "id": "BBYAvFFE3IyP"
      },
      "source": [
        "#model parameteres and some declarations\n",
        "learning_rate = 0.006\n",
        "#losses array is to record loss values per batch_size iterations so that they can be plotted later\n",
        "losses = []\n",
        "total_loss = 0"
      ],
      "execution_count": null,
      "outputs": []
    },
    {
      "cell_type": "code",
      "metadata": {
        "id": "YzW33aXM-PTm"
      },
      "source": [
        "#number of iterations for train phase\n",
        "iterations = 12800\n",
        "#number of epochs for train phase\n",
        "epochs = 10\n",
        "batch_size = 400"
      ],
      "execution_count": null,
      "outputs": []
    },
    {
      "cell_type": "code",
      "metadata": {
        "id": "Y5augyoj3IwU"
      },
      "source": [
        "encoder_optimizer = optim.SGD(encoder.parameters(), lr = learning_rate)\n",
        "decoder_optimizer = optim.SGD(decoder.parameters(), lr = learning_rate)\n",
        "train_data_pairs = random.sample(train_data_pairs, iterations)\n",
        "training_pairs = [pair_variables(hindi_language, english_language, train_data_pairs[iter]) for iter in range(iterations)]      #randomly selects 12800 data pairs\n",
        "criterion = nn.NLLLoss()"
      ],
      "execution_count": null,
      "outputs": []
    },
    {
      "cell_type": "code",
      "metadata": {
        "id": "2VMLtQctZm89"
      },
      "source": [
        "#function to calculate loss for training phase of the model\n",
        "def calculate_loss(iter, batch_size):\n",
        "    training_pair = training_pairs[iter]\n",
        "    input_variable, output_variable = training_pair[0], training_pair[1]\n",
        "    loss = train(input_variable, output_variable, encoder, decoder, encoder_optimizer, decoder_optimizer, criterion)\n",
        "    return loss"
      ],
      "execution_count": null,
      "outputs": []
    },
    {
      "cell_type": "code",
      "metadata": {
        "id": "e1JOBD_O3Yif",
        "colab": {
          "base_uri": "https://localhost:8080/",
          "height": 826
        },
        "outputId": "10642249-2975-4f54-8fea-bf9f9cec7bff"
      },
      "source": [
        "#training phase for the model\n",
        "#note that this model trains on 1 data per iteration for 12800 iterations using SGD for 10 epochs\n",
        "for epoch in range(epochs):     #number of epochs\n",
        "    if epoch == 4:      #early stopping since loss increases afterwards\n",
        "        break\n",
        "    print(f'Epoch {epoch+1}:')\n",
        "    for iter in range(iterations):      #iterations = 12800 per epoch\n",
        "        total_loss += calculate_loss(iter, batch_size)\n",
        "        if (iter+1) % batch_size == 0:      #calculates average loss per batch_size = 400 iterations\n",
        "            avg_loss = total_loss / batch_size\n",
        "            losses.append(avg_loss)\n",
        "            total_loss = 0\n",
        "            print(f'    Iterations ({iter+1}/{iterations}) have an average loss of {avg_loss}')\n",
        "    plt.plot(losses)        #plots points on graph and connects them sequentially for each epoch\n",
        "    losses = []         #losses array again initialized to [] for next epoch\n",
        "    #comment above line if you want cotinuous plot of loss function and not loss per epoch"
      ],
      "execution_count": null,
      "outputs": [
        {
          "output_type": "stream",
          "text": [
            "Epoch 1:\n",
            "    Iterations (400/12800) have an average loss of 3.556526342712778\n",
            "    Iterations (800/12800) have an average loss of 3.6408736333183556\n",
            "    Iterations (1200/12800) have an average loss of 3.63722895823655\n",
            "    Iterations (1600/12800) have an average loss of 3.492270237183564\n",
            "    Iterations (2000/12800) have an average loss of 3.6894716835042396\n",
            "    Iterations (2400/12800) have an average loss of 3.6188794738283083\n",
            "    Iterations (2800/12800) have an average loss of 3.530993393659386\n",
            "    Iterations (3200/12800) have an average loss of 3.38150592900412\n",
            "    Iterations (3600/12800) have an average loss of 3.7084702504942486\n",
            "    Iterations (4000/12800) have an average loss of 3.487055985770064\n",
            "    Iterations (4400/12800) have an average loss of 3.603846483180705\n",
            "    Iterations (4800/12800) have an average loss of 3.4356631166074942\n",
            "    Iterations (5200/12800) have an average loss of 3.493178861771633\n",
            "    Iterations (5600/12800) have an average loss of 3.649798981984272\n",
            "    Iterations (6000/12800) have an average loss of 3.6489533562817487\n",
            "    Iterations (6400/12800) have an average loss of 3.49502422033818\n",
            "    Iterations (6800/12800) have an average loss of 3.5486020239926437\n",
            "    Iterations (7200/12800) have an average loss of 3.598766572466122\n",
            "    Iterations (7600/12800) have an average loss of 3.6748789122008554\n",
            "    Iterations (8000/12800) have an average loss of 3.560849527500034\n",
            "    Iterations (8400/12800) have an average loss of 3.6161563025684753\n",
            "    Iterations (8800/12800) have an average loss of 3.532437991836943\n",
            "    Iterations (9200/12800) have an average loss of 3.5530112330271892\n",
            "    Iterations (9600/12800) have an average loss of 3.725678018114718\n",
            "    Iterations (10000/12800) have an average loss of 3.652643475926061\n",
            "    Iterations (10400/12800) have an average loss of 3.530803329382065\n",
            "    Iterations (10800/12800) have an average loss of 3.7883198844667305\n",
            "    Iterations (11200/12800) have an average loss of 3.9856738856232283\n",
            "    Iterations (11600/12800) have an average loss of 3.8912543035169667\n",
            "    Iterations (12000/12800) have an average loss of 4.034800454767876\n",
            "    Iterations (12400/12800) have an average loss of 3.944282137942795\n",
            "    Iterations (12800/12800) have an average loss of 3.944701023342033\n"
          ],
          "name": "stdout"
        },
        {
          "output_type": "display_data",
          "data": {
            "image/png": "[encoded data removed]",
            "text/plain": [
              "<Figure size 432x288 with 1 Axes>"
            ]
          },
          "metadata": {
            "tags": [],
            "needs_background": "light"
          }
        }
      ]
    },
    {
      "cell_type": "code",
      "metadata": {
        "id": "gB3OYypy3YZ3"
      },
      "source": [
        "#function for testing data\n",
        "def evaluate(encoder, decoder, sentence, max_length = MAX_LENGTH):\n",
        "    input_variable = sentence_variables(hindi_language, sentence)\n",
        "    input_length = input_variable.size()[0]\n",
        "    encoder_hidden = encoder.init_hidden()\n",
        "    encoder_outputs = Variable(torch.zeros(input_length, encoder.hidden_size)).cuda() if use_cuda else Variable(torch.zeros(input_length, encoder.hidden_size))\n",
        "\n",
        "    #test input enters encoder\n",
        "    for en_in in range(input_length):\n",
        "        encoder_output, encoder_hidden = encoder(input_variable[en_in], encoder_hidden)\n",
        "        encoder_outputs[en_in] += encoder_output[0][0]\n",
        "\n",
        "    decoder_input = Variable(torch.LongTensor([[SOS]])).cuda() if use_cuda else Variable(torch.LongTensor([[SOS]]))\n",
        "    decoder_hidden = encoder_hidden\n",
        "    decoded_words = []\n",
        "\n",
        "    #test input enters decoder\n",
        "    for de_in in range(max_length):\n",
        "        decoder_output, decoder_hidden = decoder(decoder_input, decoder_hidden)\n",
        "        d1, d2 = decoder_output.data.topk(1)\n",
        "        if d2[0][0].item() != EOS:\n",
        "            decoded_words.append(english_language.index2word[d2[0][0].item()])\n",
        "        else:\n",
        "            break\n",
        "        decoder_input = Variable(torch.LongTensor([[d2[0][0].item()]])).cuda() if use_cuda else Variable(torch.LongTensor([[d2[0][0].item()]]))\n",
        "\n",
        "    return decoded_words"
      ],
      "execution_count": null,
      "outputs": []
    },
    {
      "cell_type": "code",
      "metadata": {
        "id": "hOlt_H0z5koL"
      },
      "source": [
        "#computing output using evaluate and store the result in translation\n",
        "def compute_translation(sentences):\n",
        "    translation = \"\"     #stores translated sentences in output with each sentence separated by \\n character\n",
        "    for sentence in sentences:\n",
        "        translated_sentence = ' '.join(evaluate(encoder, decoder, sentence))\n",
        "        translated_sentence += \"\\n\"\n",
        "        translation += translated_sentence\n",
        "    return translation"
      ],
      "execution_count": null,
      "outputs": []
    },
    {
      "cell_type": "code",
      "metadata": {
        "id": "UQ-6Zgsc3YKv"
      },
      "source": [
        "#writes output to answer.txt\n",
        "def write_output(output_path, translation):\n",
        "    f = open(output_path,\"w\")\n",
        "    f.write(translation)\n",
        "    f.close()"
      ],
      "execution_count": null,
      "outputs": []
    },
    {
      "cell_type": "code",
      "metadata": {
        "id": "bZNTbNgAoMtp",
        "colab": {
          "base_uri": "https://localhost:8080/"
        },
        "outputId": "5a9a0c68-045d-4351-d3a5-e57d98104fc8"
      },
      "source": [
        "#test phase of the model\n",
        "test_path = 'drive/MyDrive/testhindistatements.csv'\n",
        "\n",
        "sentences = []\n",
        "cnt = read_csv(test_path)\n",
        "print(f'{cnt-1} sentences read')\n",
        "\n",
        "translation = compute_translation(sentences)"
      ],
      "execution_count": null,
      "outputs": [
        {
          "output_type": "stream",
          "text": [
            "24102 sentences read\n"
          ],
          "name": "stdout"
        }
      ]
    },
    {
      "cell_type": "code",
      "metadata": {
        "colab": {
          "base_uri": "https://localhost:8080/"
        },
        "id": "Quv_1-Cjz-ZS",
        "outputId": "e0f5c28f-fba9-44df-d58b-357e6045f450"
      },
      "source": [
        "print(sentences[:4])"
      ],
      "execution_count": null,
      "outputs": [
        {
          "output_type": "stream",
          "text": [
            "['(तालियां) अब, इसने मेरे मन को उड़ा दिया।', 'पर आप बहुत धाँसू लग रहे हैं।', 'शास्त्र समझ्ने के रा स्ते बनाती है|', 'कृपया मेरी बात सुनो।']\n"
          ],
          "name": "stdout"
        }
      ]
    },
    {
      "cell_type": "code",
      "metadata": {
        "id": "prF180Ld5kgD"
      },
      "source": [
        "output_path = 'answer.txt'\n",
        "write_output(output_path, translation)"
      ],
      "execution_count": null,
      "outputs": []
    },
    {
      "cell_type": "code",
      "metadata": {
        "id": "-JGH2Es1aPzV"
      },
      "source": [
        "#saving encoder and decoder model used for training\n",
        "model = 'encoder.pt'\n",
        "path = F\"/content/drive/MyDrive/{model}\" \n",
        "torch.save(encoder.state_dict(), path)\n",
        "model = 'decoder.pt'\n",
        "path = F\"/content/drive/MyDrive/{model}\" \n",
        "torch.save(decoder.state_dict(), path)"
      ],
      "execution_count": null,
      "outputs": []
    },
    {
      "cell_type": "markdown",
      "metadata": {
        "id": "aLtq1-5tr0nc"
      },
      "source": [
        "I would like to cite the following webpage from which I took help to write the above code:\n",
        "\n",
        "S.R. (2017). NLP FROM SCRATCH: TRANSLATION WITH A SEQUENCE TO SEQUENCE NETWORK AND ATTENTION. Pytorch.Org. https://pytorch.org/tutorials/intermediate/seq2seq_translation_tutorial.html\n",
        "\n",
        "I would like to mention that I have used some parts from the above source and modified them according to my needs. Moreover, the above source used attention decoder which I did not use in my model. However, the encoder and decoder module which I implemented are quite similar in their functionality because I used the same architecture as the webpage: GRU, ReLu, softmax and NLL loss. I could not try other functions because the model took a large time to run and I also had to find the best hyperparameters for the model.\n",
        "\n",
        "I also used python documentations for pytorch and other stuffs from the main python documentation webpage."
      ]
    }
  ]
}